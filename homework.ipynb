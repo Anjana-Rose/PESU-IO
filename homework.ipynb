{
  "nbformat": 4,
  "nbformat_minor": 0,
  "metadata": {
    "colab": {
      "provenance": []
    },
    "kernelspec": {
      "name": "python3",
      "display_name": "Python 3"
    },
    "language_info": {
      "name": "python"
    }
  },
  "cells": [
    {
      "cell_type": "code",
      "execution_count": 3,
      "metadata": {
        "colab": {
          "base_uri": "https://localhost:8080/"
        },
        "id": "3RIp-MBenD8j",
        "outputId": "4de850fa-3877-4c49-eecb-c1208784f75a"
      },
      "outputs": [
        {
          "output_type": "stream",
          "name": "stdout",
          "text": [
            "Enter the first name: abc\n",
            "Enter the age: 12\n",
            "Enter the second name: xyz\n",
            "Enter the age: 13\n",
            "The total age is:  25\n"
          ]
        }
      ],
      "source": [
        "n1=input(\"Enter the first name: \")\n",
        "a1=int(input(\"Enter the age: \"))\n",
        "n2=input(\"Enter the second name: \")\n",
        "a2=int(input(\"Enter the age: \"))\n",
        "print(\"The total age is: \",a1+a2)"
      ]
    },
    {
      "cell_type": "code",
      "source": [
        "n1=int(input(\"Enter the first number: \"))\n",
        "n2=int(input(\"Enter the second number: \"))\n",
        "n3=int(input(\"Enter the third number: \"))\n",
        "average=(n1+n2+n3)/3\n",
        "print(\"The average is: \",average)"
      ],
      "metadata": {
        "colab": {
          "base_uri": "https://localhost:8080/"
        },
        "id": "BIgcnJ653xf1",
        "outputId": "7a0f32a3-f655-4bba-cb66-17565659a722"
      },
      "execution_count": 7,
      "outputs": [
        {
          "output_type": "stream",
          "name": "stdout",
          "text": [
            "Enter the first number: 1\n",
            "Enter the second number: 10\n",
            "Enter the third number: 7\n",
            "The average is:  6.0\n"
          ]
        }
      ]
    },
    {
      "cell_type": "code",
      "source": [
        "length=int(input(\"Enter the length of the rectangle: \"))\n",
        "breadth=int(input(\"Enter the breadth of the rectangle: \"))\n",
        "height=int(input(\"Enter the height of the rectangle: \"))\n",
        "\n",
        "volume=length*breadth*height\n",
        "print(\"The volume of the rectangle is: \",volume)\n"
      ],
      "metadata": {
        "colab": {
          "base_uri": "https://localhost:8080/"
        },
        "id": "bKp7OSQ_4dBD",
        "outputId": "99c84751-c01c-4453-eada-14fc0ee0b292"
      },
      "execution_count": 8,
      "outputs": [
        {
          "output_type": "stream",
          "name": "stdout",
          "text": [
            "Enter the length of the rectangle: 5\n",
            "Enter the breadth of the rectangle: 8\n",
            "Enter the height of the rectangle: 3\n",
            "The volume of the rectangle is:  120\n"
          ]
        }
      ]
    },
    {
      "cell_type": "code",
      "source": [
        "n=int(input(\"Enter the last number: \"))\n",
        "sum=0\n",
        "for i in range (n+1):\n",
        "  sum=sum+i\n",
        "print(\"The sum of natural numbers till n is: \",sum)\n"
      ],
      "metadata": {
        "colab": {
          "base_uri": "https://localhost:8080/"
        },
        "id": "DbBYeqZW5AKO",
        "outputId": "a922d6cf-9c11-4884-a59c-9e3f75514ab0"
      },
      "execution_count": 11,
      "outputs": [
        {
          "output_type": "stream",
          "name": "stdout",
          "text": [
            "Enter the last number: 3\n",
            "The sum of natural numbers till n is:  6\n"
          ]
        }
      ]
    },
    {
      "cell_type": "code",
      "source": [
        "n1=int(input(\"Enter the first number: \"))\n",
        "n2=int(input(\"Enter the second number: \"))\n",
        "i=1\n",
        "hcf=1\n",
        "while (i<=n1):\n",
        "  if(n1%i==0)and(n2%i==0):\n",
        "    hcf=i\n",
        "  i+=1\n",
        "print(\"The highest common factor is: \",hcf)"
      ],
      "metadata": {
        "colab": {
          "base_uri": "https://localhost:8080/"
        },
        "id": "y2au_8cq6BMg",
        "outputId": "1f5586c7-2a89-4720-9ca6-9a4bb6b285a9"
      },
      "execution_count": 17,
      "outputs": [
        {
          "output_type": "stream",
          "name": "stdout",
          "text": [
            "Enter the first number: 4\n",
            "Enter the second number: 6\n",
            "The highest common factor is:  2\n"
          ]
        }
      ]
    },
    {
      "cell_type": "code",
      "source": [
        "def factorial(n):\n",
        "  if n==1:\n",
        "    return 1\n",
        "  else:\n",
        "    return n*factorial(n-1)\n",
        "\n",
        "n=int(input(\"Enter a number: \"))\n",
        "fact=factorial(n)\n",
        "print(\"The factorial of n is: \",fact)\n"
      ],
      "metadata": {
        "colab": {
          "base_uri": "https://localhost:8080/"
        },
        "id": "Ij_oGRvn6_lc",
        "outputId": "4bc32d23-4108-4a88-eda1-67c0f1e0e58b"
      },
      "execution_count": 19,
      "outputs": [
        {
          "output_type": "stream",
          "name": "stdout",
          "text": [
            "Enter a number: 6\n",
            "The factorial of n is:  720\n"
          ]
        }
      ]
    },
    {
      "cell_type": "code",
      "source": [
        "l=[10,20,30,10,40,20,40,50,60,30]\n",
        "d={}\n",
        "for i in l:\n",
        "  if i in d:\n",
        "    d[i]+=1\n",
        "  else:\n",
        "    d[i]=1\n",
        "for i in d:\n",
        "  if d[i]>1:\n",
        "    print(i)"
      ],
      "metadata": {
        "colab": {
          "base_uri": "https://localhost:8080/"
        },
        "id": "ezulB97Z8eNY",
        "outputId": "7a2230b6-cdfe-479a-8461-84098e06ff92"
      },
      "execution_count": 23,
      "outputs": [
        {
          "output_type": "stream",
          "name": "stdout",
          "text": [
            "10\n",
            "20\n",
            "30\n",
            "40\n"
          ]
        }
      ]
    },
    {
      "cell_type": "code",
      "source": [
        "n=int(input(\"Enter a number: \"))\n",
        "\n",
        "for i in range (n+1):\n",
        "  for j in range (i):\n",
        "    print(\"*\",end=\" \")\n",
        "  print(\"\")"
      ],
      "metadata": {
        "colab": {
          "base_uri": "https://localhost:8080/"
        },
        "id": "1-kcE7gN9dKX",
        "outputId": "2e7ad182-be54-4247-c316-3a643b4d2ce7"
      },
      "execution_count": 27,
      "outputs": [
        {
          "output_type": "stream",
          "name": "stdout",
          "text": [
            "Enter a number: 5\n",
            "\n",
            "* \n",
            "* * \n",
            "* * * \n",
            "* * * * \n",
            "* * * * * \n"
          ]
        }
      ]
    }
  ]
}