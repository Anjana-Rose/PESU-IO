{
  "nbformat": 4,
  "nbformat_minor": 0,
  "metadata": {
    "colab": {
      "provenance": []
    },
    "kernelspec": {
      "name": "python3",
      "display_name": "Python 3"
    },
    "language_info": {
      "name": "python"
    }
  },
  "cells": [
    {
      "cell_type": "code",
      "execution_count": null,
      "metadata": {
        "colab": {
          "base_uri": "https://localhost:8080/"
        },
        "id": "p9KqZu-XbAXm",
        "outputId": "7fba2076-a2cd-4003-a8b9-e96d09dfacc5"
      },
      "outputs": [
        {
          "output_type": "stream",
          "name": "stdout",
          "text": [
            "Hello World!\n"
          ]
        }
      ],
      "source": [
        "#Hello World\n",
        "print(\"Hello World!\")"
      ]
    },
    {
      "cell_type": "code",
      "source": [
        "#even or odd\n",
        "n=int(input(\"Enter a number: \"))\n",
        "if(n%2==0):\n",
        "  print(n,\"is an even number\")\n",
        "else:\n",
        "  print(n,\"is an odd number\")"
      ],
      "metadata": {
        "colab": {
          "base_uri": "https://localhost:8080/"
        },
        "id": "VwRNi_v3c7Pu",
        "outputId": "8bb28b9c-5d8c-4124-a2b6-34ac2c73b081"
      },
      "execution_count": null,
      "outputs": [
        {
          "output_type": "stream",
          "name": "stdout",
          "text": [
            "Enter a number: 12\n",
            "12 is an even number\n"
          ]
        }
      ]
    },
    {
      "cell_type": "code",
      "source": [
        "#lists\n",
        "text=input(\"Enter a string: \")\n",
        "vowels=['a','e','i','o','u']\n",
        "for i in text:\n",
        "  if i in vowels:\n",
        "    print(i)"
      ],
      "metadata": {
        "colab": {
          "base_uri": "https://localhost:8080/"
        },
        "id": "_EY30DwWetvr",
        "outputId": "efb84fca-eb90-44be-e91f-5305c8498c3e"
      },
      "execution_count": null,
      "outputs": [
        {
          "output_type": "stream",
          "name": "stdout",
          "text": [
            "Enter a string: abcdefghijkl\n",
            "a\n",
            "e\n",
            "i\n"
          ]
        }
      ]
    },
    {
      "cell_type": "code",
      "source": [
        "#dictionary\n",
        "l=[1,1,3,4,4,4,6,7,8,8,8]\n",
        "d={}\n",
        "for i in l:\n",
        "  if i in d:\n",
        "    d[i]+=1\n",
        "  else:\n",
        "    d[i]=1\n",
        "print(d)"
      ],
      "metadata": {
        "colab": {
          "base_uri": "https://localhost:8080/"
        },
        "id": "dBSGb0_8hZ2_",
        "outputId": "4cf7d616-6142-4272-ffa2-7f59ccbfab63"
      },
      "execution_count": null,
      "outputs": [
        {
          "output_type": "stream",
          "name": "stdout",
          "text": [
            "{1: 2, 3: 1, 4: 3, 6: 1, 7: 1, 8: 3}\n"
          ]
        }
      ]
    },
    {
      "cell_type": "code",
      "source": [
        "#sets\n",
        "str=\"betty bought some butter but the butter was bitter so she bought some better butter\"\n",
        "list=str.split(\" \")\n",
        "myset=set(list)\n",
        "print(myset)"
      ],
      "metadata": {
        "colab": {
          "base_uri": "https://localhost:8080/"
        },
        "id": "prDml_Pyjle7",
        "outputId": "49dda22f-2564-4600-a1d8-261db7a975a3"
      },
      "execution_count": null,
      "outputs": [
        {
          "output_type": "stream",
          "name": "stdout",
          "text": [
            "{'but', 'some', 'the', 'betty', 'was', 'better', 'she', 'so', 'bitter', 'butter', 'bought'}\n"
          ]
        }
      ]
    },
    {
      "cell_type": "code",
      "source": [
        "#frequency of words\n",
        "str=\"betty bought some butter but the butter was bitter so she bought some better butter\"\n",
        "list=str.split(\" \")\n",
        "d={}\n",
        "for i in list:\n",
        "  if i in d:\n",
        "    d[i]+=1\n",
        "  else:\n",
        "    d[i]=1\n",
        "print(d)"
      ],
      "metadata": {
        "colab": {
          "base_uri": "https://localhost:8080/"
        },
        "id": "SNy1fwWfl-8i",
        "outputId": "a60e3b9f-f36e-4ae5-dbcc-ff020054f646"
      },
      "execution_count": null,
      "outputs": [
        {
          "output_type": "stream",
          "name": "stdout",
          "text": [
            "{'betty': 1, 'bought': 2, 'some': 2, 'butter': 3, 'but': 1, 'the': 1, 'was': 1, 'bitter': 1, 'so': 1, 'she': 1, 'better': 1}\n"
          ]
        }
      ]
    },
    {
      "cell_type": "code",
      "source": [],
      "metadata": {
        "id": "d_G1vmzTmvQE"
      },
      "execution_count": null,
      "outputs": []
    }
  ]
}